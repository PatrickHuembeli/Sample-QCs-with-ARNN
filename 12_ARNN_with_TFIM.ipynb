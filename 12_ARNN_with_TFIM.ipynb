{
 "cells": [
  {
   "cell_type": "code",
   "execution_count": 1,
   "id": "774e3ff4",
   "metadata": {},
   "outputs": [],
   "source": [
    "from jax_ARNN_helper import *"
   ]
  },
  {
   "cell_type": "code",
   "execution_count": 2,
   "id": "9648714b",
   "metadata": {},
   "outputs": [],
   "source": [
    "import netket as nk\n",
    "\n",
    "from netket import jax as nkjax\n",
    "import jax.numpy as jnp\n",
    "\n",
    "from tqdm.notebook import tqdm\n",
    "\n",
    "import jax\n",
    "\n",
    "import pennylane as qml\n",
    "\n",
    "import numpy as np\n",
    "\n",
    "import matplotlib.pyplot as plt\n",
    "\n",
    "import pandas as pd"
   ]
  },
  {
   "cell_type": "code",
   "execution_count": 3,
   "id": "3dc0534a",
   "metadata": {},
   "outputs": [],
   "source": [
    "%config Completer.use_jedi = False"
   ]
  },
  {
   "cell_type": "code",
   "execution_count": 4,
   "id": "8f62c4af",
   "metadata": {},
   "outputs": [],
   "source": [
    "num_qubits = 2\n",
    "depth = 4"
   ]
  },
  {
   "cell_type": "markdown",
   "id": "e2c78345",
   "metadata": {},
   "source": [
    "## Define TFIM Hamiltonian and obtain exact GS energy"
   ]
  },
  {
   "cell_type": "code",
   "execution_count": 6,
   "id": "167cf489",
   "metadata": {},
   "outputs": [
    {
     "name": "stdout",
     "output_type": "stream",
     "text": [
      "min energy:  -2.8284271247461894\n"
     ]
    }
   ],
   "source": [
    "def TFIM_Hamiltonian(coeffs_ZZ, coeffs_X):\n",
    "    Z = np.array([[1,0],[0, -1]])\n",
    "    X = np.array([[0,1],[1,0]])\n",
    "    one = np.eye(2)\n",
    "    dim = 2**(len(coeffs_X))\n",
    "    n_qubit = len(coeffs_X)\n",
    "    H = np.zeros((dim, dim))\n",
    "    for i in range(len(coeffs_X)):\n",
    "        op1 = [Z]*((i+1)%n_qubit == 0) + [one]*(min(i, n_qubit-2)) + [Z] + [Z]*((i+1)%n_qubit != 0) + [one]*(n_qubit - i -2) \n",
    "        op2 = [one]*i + [X] + [one]*(n_qubit-i-1)\n",
    "\n",
    "        M = 1\n",
    "        for O in op1:\n",
    "            M = np.kron(M, O)\n",
    "        H += M*coeffs_ZZ[i]\n",
    "            \n",
    "        M = 1\n",
    "        for O in op2:\n",
    "            M = np.kron(M, O)\n",
    "        H += M*coeffs_X[i]\n",
    "        \n",
    "    return H\n",
    "        \n",
    "\n",
    "coeffs_ZZ = [1.0]*num_qubits\n",
    "coeffs_X = [1.0]*num_qubits\n",
    "obs_ZZ = [qml.PauliZ(i)@qml.PauliZ((i+1)%num_qubits) for i in range(num_qubits)]\n",
    "obs_X = [qml.PauliX(i) for i in range(num_qubits)]\n",
    "\n",
    "H_qml = qml.Hamiltonian(coeffs_ZZ + coeffs_X, obs_ZZ + obs_X)\n",
    "H = TFIM_Hamiltonian(coeffs_ZZ, coeffs_X)  \n",
    "\n",
    "eig, v = np.linalg.eig(H)\n",
    "E0 = eig.min()\n",
    "\n",
    "print(\"min energy: \", E0)"
   ]
  },
  {
   "cell_type": "markdown",
   "id": "a239e2d5",
   "metadata": {},
   "source": [
    "## Define QC in pennylane with TFIM Hamiltonian"
   ]
  },
  {
   "cell_type": "code",
   "execution_count": 7,
   "id": "0920b4e5",
   "metadata": {},
   "outputs": [],
   "source": [
    "dev = qml.device(\"default.qubit\", wires=num_qubits)\n",
    "gate_set = [qml.RX, qml.RY, qml.RZ, qml.CNOT, 0]\n",
    "\n",
    "\n",
    "def circuit(action_sequence, num_qubits=None, depth = None, params=None, wires=0):\n",
    "    \"\"\"\n",
    "    For now no parameters implemented\n",
    "    \"\"\"\n",
    "    \n",
    "    params = [np.pi/4] # For the moment params are fixed\n",
    "    \n",
    "    for i in range(depth):\n",
    "        for j in range(num_qubits):\n",
    "            action = action_sequence[0][j][i]\n",
    "            if gate_set[action] != 0: # Skip identity\n",
    "                if action == 3:\n",
    "                    \"\"\"This is CNOT (2 qubit gate)\"\"\"\n",
    "                    gate_set[action](wires=[j%num_qubits, (j+1)%num_qubits])\n",
    "                else:\n",
    "                    gate_set[action](params[0], wires= j%num_qubits)\n",
    "\n",
    "cost_fn = qml.ExpvalCost(circuit, H_qml, dev)"
   ]
  },
  {
   "cell_type": "markdown",
   "id": "dda3b962",
   "metadata": {},
   "source": [
    "## Define loss function \n",
    "\n",
    "`include_energy` can be used to turn off the energy part of the loss function. If set to `0.0` we only maximize the energy and end up in an arbitrary \"uniform\" superposition state."
   ]
  },
  {
   "cell_type": "code",
   "execution_count": 14,
   "id": "74fcf74d",
   "metadata": {},
   "outputs": [],
   "source": [
    "def loss(variables, samples, measure, T=1., include_energy = 1.0):\n",
    "    log_p = vs._apply_fun(variables, samples)\n",
    "    avg = log_p*jnp.array(measure)\n",
    "    return include_energy*avg.mean() + (T*log_p).mean()\n",
    "\n",
    "def get_sample(vs = None):\n",
    "    S = vs.sample()\n",
    "    S = S.reshape(-1, L)\n",
    "    return jax.lax.stop_gradient(S)"
   ]
  },
  {
   "cell_type": "code",
   "execution_count": 15,
   "id": "7536e5c6",
   "metadata": {},
   "outputs": [
    {
     "data": {
      "application/vnd.jupyter.widget-view+json": {
       "model_id": "f71257fa88ec4c50b2d551380efc6e66",
       "version_major": 2,
       "version_minor": 0
      },
      "text/plain": [
       "  0%|          | 0/101 [00:00<?, ?it/s]"
      ]
     },
     "metadata": {},
     "output_type": "display_data"
    },
    {
     "name": "stdout",
     "output_type": "stream",
     "text": [
      "0 0.1\n"
     ]
    }
   ],
   "source": [
    "L = num_qubits*depth\n",
    "\n",
    "hi = nk.hilbert.Spin(s=2, N=L)\n",
    "ma = ARNNConv1D(hilbert=hi, layers=2, features=10, kernel_size=10) #NN model\n",
    "sa = nk.sampler.ARDirectSampler(hi) # Sampler\n",
    "op = nk.optimizer.Sgd(learning_rate=0.1) # Optimizer\n",
    "\n",
    "vs = nk.vqs.MCState(sa, ma, n_samples=100) # Variational State\n",
    "\n",
    "grad = nkjax.grad(loss)\n",
    "\n",
    "df = pd.DataFrame(columns=[\"Temp_factor\", 'unique_samples', 'good_solutions', \"unique_good_solutions\", \"samples\", \"measures\"])\n",
    "\n",
    "alpha = .050 # Learning rate\n",
    "Temp = 0.1\n",
    "include_energy = 1.0\n",
    "\n",
    "ma = ARNNConv1D(hilbert=hi, layers=2, features=10, kernel_size=10) #NN model\n",
    "vs = nk.vqs.MCState(sa, ma, n_samples=100) # Variational State\n",
    "\n",
    "for i in tqdm(range(101)):\n",
    "    s = get_sample(vs = vs)\n",
    "    S = (s + 4)/2\n",
    "    S = S.astype(int)\n",
    "    measure = [cost_fn(S[i].reshape(1, num_qubits, depth), num_qubits = num_qubits, depth = depth).item() for i in range(len(S))]\n",
    "    grads = grad(vs.variables, s, measure, T=Temp, include_energy=include_energy)\n",
    "    vs.variables = jax.tree_multimap(lambda p, g: p - alpha * g,\n",
    "                            vs.variables, grads)\n",
    "\n",
    "\n",
    "s = get_sample(vs = vs)\n",
    "S = (s + 4)/2\n",
    "S = S.astype(int)\n",
    "\n",
    "measure = [cost_fn(S[i].reshape(1, num_qubits, depth), num_qubits = num_qubits, depth=depth).item() for i in range(len(S))]\n",
    "(idx,) = np.where(np.array(measure) < -1.99)\n",
    "\n",
    "new_row = pd.Series(data={\"Temp_factor\":Temp, 'unique_samples': np.unique(S, axis=0).shape[0], 'good_solutions':idx, \"unique_good_solutions\": np.unique(S[idx], axis=0).shape[0], \"samples\": s, \"measures\":measure}, name='{}'.format(j))\n",
    "df = df.append(new_row, ignore_index= False)"
   ]
  },
  {
   "cell_type": "code",
   "execution_count": 16,
   "id": "80984de6",
   "metadata": {},
   "outputs": [
    {
     "data": {
      "text/html": [
       "<div>\n",
       "<style scoped>\n",
       "    .dataframe tbody tr th:only-of-type {\n",
       "        vertical-align: middle;\n",
       "    }\n",
       "\n",
       "    .dataframe tbody tr th {\n",
       "        vertical-align: top;\n",
       "    }\n",
       "\n",
       "    .dataframe thead th {\n",
       "        text-align: right;\n",
       "    }\n",
       "</style>\n",
       "<table border=\"1\" class=\"dataframe\">\n",
       "  <thead>\n",
       "    <tr style=\"text-align: right;\">\n",
       "      <th></th>\n",
       "      <th>Temp_factor</th>\n",
       "      <th>unique_samples</th>\n",
       "      <th>good_solutions</th>\n",
       "      <th>unique_good_solutions</th>\n",
       "      <th>samples</th>\n",
       "      <th>measures</th>\n",
       "    </tr>\n",
       "  </thead>\n",
       "  <tbody>\n",
       "    <tr>\n",
       "      <th>0</th>\n",
       "      <td>0.1</td>\n",
       "      <td>1</td>\n",
       "      <td>[0, 1, 2, 3, 4, 5, 6, 7, 8, 9, 10, 11, 12, 13,...</td>\n",
       "      <td>1</td>\n",
       "      <td>[[-4.0, -4.0, -4.0, -4.0, 4.0, 4.0, 0.0, 2.0],...</td>\n",
       "      <td>[-2.0, -2.0, -2.0, -2.0, -2.0, -2.0, -2.0, -2....</td>\n",
       "    </tr>\n",
       "  </tbody>\n",
       "</table>\n",
       "</div>"
      ],
      "text/plain": [
       "   Temp_factor unique_samples  \\\n",
       "0          0.1              1   \n",
       "\n",
       "                                      good_solutions unique_good_solutions  \\\n",
       "0  [0, 1, 2, 3, 4, 5, 6, 7, 8, 9, 10, 11, 12, 13,...                     1   \n",
       "\n",
       "                                             samples  \\\n",
       "0  [[-4.0, -4.0, -4.0, -4.0, 4.0, 4.0, 0.0, 2.0],...   \n",
       "\n",
       "                                            measures  \n",
       "0  [-2.0, -2.0, -2.0, -2.0, -2.0, -2.0, -2.0, -2....  "
      ]
     },
     "execution_count": 16,
     "metadata": {},
     "output_type": "execute_result"
    }
   ],
   "source": [
    "df"
   ]
  }
 ],
 "metadata": {
  "kernelspec": {
   "display_name": "Python 3 (ipykernel)",
   "language": "python",
   "name": "python3"
  },
  "language_info": {
   "codemirror_mode": {
    "name": "ipython",
    "version": 3
   },
   "file_extension": ".py",
   "mimetype": "text/x-python",
   "name": "python",
   "nbconvert_exporter": "python",
   "pygments_lexer": "ipython3",
   "version": "3.9.6"
  }
 },
 "nbformat": 4,
 "nbformat_minor": 5
}
